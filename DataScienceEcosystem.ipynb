{
 "cells": [
  {
   "cell_type": "markdown",
   "id": "5cf10770",
   "metadata": {},
   "source": [
    "# Data Science Tools and Ecosystem"
   ]
  },
  {
   "cell_type": "markdown",
   "id": "9e16888b",
   "metadata": {},
   "source": [
    "In this notebook, Data Science Tools and Ecosystem are summarized."
   ]
  },
  {
   "cell_type": "markdown",
   "id": "7470012d",
   "metadata": {},
   "source": [
    "Some of the popular languages that Data Scientists use are:\n",
    "- R\n",
    "- Python"
   ]
  },
  {
   "cell_type": "markdown",
   "id": "a8f82cca",
   "metadata": {},
   "source": [
    "Some of the commonly used libraries used by Data Scientists include:\n",
    "- Pandas\n",
    "- Numpy\n",
    "- Matplotlib\n"
   ]
  },
  {
   "cell_type": "markdown",
   "id": "205e45e0",
   "metadata": {},
   "source": [
    "| Data Science Tools   |\n",
    "|----------------------|\n",
    "| Jupyter Notebook     |\n",
    "| RStudio              |\n",
    "| Apache Zeppelin      |\n"
   ]
  },
  {
   "cell_type": "markdown",
   "id": "0394fee0",
   "metadata": {},
   "source": [
    "### Below are a few examples of evaluating arithmetic expressions in Python.\n"
   ]
  },
  {
   "cell_type": "code",
   "execution_count": 1,
   "id": "dfe6de2d",
   "metadata": {},
   "outputs": [
    {
     "name": "stdout",
     "output_type": "stream",
     "text": [
      "17\n"
     ]
    }
   ],
   "source": [
    "# This is a simple arithmetic expression to multiply then add integers.\n",
    "result = (3 * 4) + 5\n",
    "print(result)  # Output will be 17\n"
   ]
  },
  {
   "cell_type": "code",
   "execution_count": 2,
   "id": "2060e6b3",
   "metadata": {},
   "outputs": [
    {
     "name": "stdout",
     "output_type": "stream",
     "text": [
      "3.3333333333333335\n"
     ]
    }
   ],
   "source": [
    "# This will convert 200 minutes to hours by dividing by 60.\n",
    "hours = 200 / 60\n",
    "print(hours)  # Output will be approximately 3.3333\n"
   ]
  },
  {
   "cell_type": "markdown",
   "id": "0a7873ff",
   "metadata": {},
   "source": [
    "**Objectives:**\n",
    "\n",
    "- Evaluate simple arithmetic expressions, such as multiplication and addition.\n",
    "- Convert units, such as minutes to hours.\n",
    "- List popular development environments for Data Science.\n",
    "- Introduce basic Python syntax and operations.\n",
    "- Demonstrate examples of fundamental coding practices.\n"
   ]
  },
  {
   "cell_type": "markdown",
   "id": "e5c997bb",
   "metadata": {},
   "source": [
    "## Author\n",
    "JL"
   ]
  },
  {
   "cell_type": "markdown",
   "id": "48e25a84",
   "metadata": {},
   "source": []
  }
 ],
 "metadata": {
  "kernelspec": {
   "display_name": "Python 3 (ipykernel)",
   "language": "python",
   "name": "python3"
  },
  "language_info": {
   "codemirror_mode": {
    "name": "ipython",
    "version": 3
   },
   "file_extension": ".py",
   "mimetype": "text/x-python",
   "name": "python",
   "nbconvert_exporter": "python",
   "pygments_lexer": "ipython3",
   "version": "3.10.9"
  }
 },
 "nbformat": 4,
 "nbformat_minor": 5
}
